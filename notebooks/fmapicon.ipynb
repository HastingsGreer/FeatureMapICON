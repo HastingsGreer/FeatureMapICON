{
 "cells": [
  {
   "cell_type": "code",
   "execution_count": null,
   "metadata": {
    "id": "PVf8fqO7wQoZ"
   },
   "outputs": [],
   "source": []
  },
  {
   "cell_type": "code",
   "execution_count": null,
   "metadata": {
    "id": "vnlllS49wV8T"
   },
   "outputs": [],
   "source": [
    "# This cell contains the code from %%%%%%%%%%%%%%%%%%%%%%%%%%%%\n",
    "# that defines the functions compute_warped_image_multiNC\n",
    "# which we use for composing maps and identity_map_multiN which we use\n",
    "# to get an identity map. \n",
    "import torch\n",
    "from torch.autograd import Function\n",
    "from torch.nn import Module\n",
    "def show(x):\n",
    "    while len(x.shape) > 2:\n",
    "        x = x[0]\n",
    "    plt.imshow(x.detach().cpu())\n",
    "    #plt.show()"
   ]
  },
  {
   "cell_type": "code",
   "execution_count": null,
   "metadata": {
    "colab": {
     "base_uri": "https://localhost:8080/",
     "height": 86,
     "referenced_widgets": [
      "8015e348650a47a1823c135f4ca49703",
      "730c5d382e164e2786e2e314d77cd204",
      "51daaf17ebb04c39b5d0d9e885c83144",
      "ee628d85981747da8c7bd81a2e487049",
      "51d9b1257d324809afa068dd7414a1cd",
      "6ebd75b4d21f4555a58ab0cdb073bf8f",
      "1858db9bce1b49f296cb628179e31921",
      "878a5e5b02d94ca8972668b34e42175f",
      "c24314cb50e24a83970b625b781eb65f",
      "cd193585601e420b941f602f55de3b46",
      "7972f69c3ede41e1825eab68953494cd"
     ]
    },
    "id": "5lUk4V8RmEEM",
    "outputId": "b4fa2836-7a6b-4e53-f4cc-8a0d07e7dd31"
   },
   "outputs": [],
   "source": [
    "#First, we download the MNIST dataset and store it as a dataset we can train against.\n",
    "\n",
    "import torch\n",
    "import torch.nn as nn\n",
    "import torch.nn.functional as F\n",
    "import numpy as np\n",
    "import torchvision\n",
    "import matplotlib.pyplot as plt\n",
    "import torch.optim as optim\n",
    "BATCH_SIZE = 128\n",
    "def get_dataset(split):\n",
    "    ds = torch.utils.data.DataLoader(\n",
    "        torchvision.datasets.MNIST(\"./files/\",\n",
    "            transform=torchvision.transforms.ToTensor(),\n",
    "            download=True,\n",
    "            train=(split == \"train\")\n",
    "        ),\n",
    "        batch_size=500\n",
    "    )\n",
    "    images = []\n",
    "    for _, batch in enumerate(ds):\n",
    "        label = np.array(batch[1])\n",
    "        batch_nines = label ==5\n",
    "        images.append(np.array(batch[0])[batch_nines])\n",
    "    images = np.concatenate(images)\n",
    "\n",
    "    ds = torch.utils.data.TensorDataset(torch.Tensor(images))\n",
    "    d1, d2 = (torch.utils.data.DataLoader(ds, batch_size=128, shuffle=True, ) for _ in (1,1))\n",
    "    return d1, d2\n",
    "d1_mnist, d2_mnist = get_dataset(\"train\")\n",
    "d1_mnist_test, d2_mnist_test = get_dataset(\"test\")"
   ]
  },
  {
   "cell_type": "code",
   "execution_count": null,
   "metadata": {
    "id": "hS-kbrYxrADw"
   },
   "outputs": [],
   "source": [
    "N = 28\n",
    "BATCH_SIZE = 128\n",
    "def get_dataset_triangles(split):\n",
    "    x, y = np.mgrid[0:1:N * 1j, 0:1:N * 1j]\n",
    "    x = np.reshape(x, (1, N, N))\n",
    "    y = np.reshape(y, (1, N, N))\n",
    "    cx = np.random.random((6000, 1, 1)) * .2 + .4\n",
    "    cy = np.random.random((6000, 1, 1)) * .2 + .4\n",
    "    r = np.random.random((6000, 1, 1)) * .2 + .2\n",
    "    theta = np.random.random((6000, 1, 1)) * np.pi * 2\n",
    "    isTriangle = np.random.random((6000, 1, 1)) > .5\n",
    "    \n",
    "    isHollow = np.random.random((6000, 1, 1)) > .5\n",
    "\n",
    "\n",
    "    triangles = (np.sqrt((x - cx)**2 + (y - cy)**2) \n",
    "    - r * np.cos(np.pi / 3) / np.cos((np.arctan2(x - cx, y - cy) + theta) % (2 * np.pi / 3) - np.pi / 3))\n",
    "\n",
    "    triangles = np.tanh(-40 * triangles)\n",
    "\n",
    "    circles = np.tanh(-40 * (np.sqrt((x - cx)**2 + (y - cy)**2) - r) )\n",
    "    \n",
    "    \n",
    "    images = isTriangle * triangles + (1 - isTriangle) * circles\n",
    "    \n",
    "    hollow = 1 - images **2\n",
    "    \n",
    "    filled = (images + 1) / 2\n",
    "    \n",
    "    images = isHollow * hollow + (1 - isHollow) * filled\n",
    "\n",
    "    ds = torch.utils.data.TensorDataset(torch.Tensor(np.expand_dims(images, 1)))\n",
    "    d1, d2 = (torch.utils.data.DataLoader(ds, batch_size=BATCH_SIZE, shuffle=True, ) for _ in (1,1))\n",
    "    return d1, d2\n",
    "\n",
    "d1_triangles, d2_triangles = get_dataset_triangles(\"train\")\n",
    "d1_triangles_test, d2_triangles_test = get_dataset_triangles(\"test\")"
   ]
  },
  {
   "cell_type": "code",
   "execution_count": null,
   "metadata": {
    "id": "yHqe6G9bmeUc"
   },
   "outputs": [],
   "source": [
    "#Next, we define the neural network architectures that we will pair with our\n",
    "#inverse consistency loss\n",
    "    \n",
    "    \n",
    "class RegisNetNoPad(nn.Module):\n",
    "    def __init__(self):\n",
    "        super(RegisNetNoPad, self).__init__()\n",
    "        self.conv1 = nn.Conv2d(1, 10, kernel_size=5)\n",
    "        self.conv2 = nn.Conv2d(11, 10, kernel_size=5)\n",
    "        self.conv3 = nn.Conv2d(21, 10, kernel_size=5)\n",
    "        self.conv4 = nn.Conv2d(31, 10, kernel_size=5)\n",
    "        self.conv5 = nn.Conv2d(41, 10, kernel_size=5)\n",
    "        self.conv6 = nn.Conv2d(51, 64, kernel_size=5)\n",
    "\n",
    "    def forward(self, x):   \n",
    "        x = torch.nn.functional.pad(x, [12] * 4)\n",
    "        x = torch.cat([x[:, :, 2:-2, 2:-2], F.relu(self.conv1(x))], 1)\n",
    "        x = torch.cat([x[:, :, 2:-2, 2:-2], F.relu(self.conv2(x))], 1)\n",
    "        x = torch.cat([x[:, :, 2:-2, 2:-2], F.relu(self.conv3(x))], 1)\n",
    "        x = torch.cat([x[:, :, 2:-2, 2:-2], F.relu(self.conv4(x))], 1)\n",
    "        x = torch.cat([x[:, :, 2:-2, 2:-2], F.relu(self.conv5(x))], 1)\n",
    "        \n",
    "        out = self.conv6(x)\n",
    "        \n",
    "        ##normalize\n",
    "        #out_norms = torch.sqrt(torch.sum(out**2, 1, keepdim=True))\n",
    "        \n",
    "        #out = out / (out_norms + .0001)\n",
    "        \n",
    "        return out * 10\n"
   ]
  },
  {
   "cell_type": "code",
   "execution_count": null,
   "metadata": {
    "id": "GFtDI6unVKH4"
   },
   "outputs": [],
   "source": [
    "net = RegisNetNoPad()\n"
   ]
  },
  {
   "cell_type": "code",
   "execution_count": null,
   "metadata": {
    "id": "_IYIopHin3qU"
   },
   "outputs": [],
   "source": [
    "def train(net, d1, d2):\n",
    "    optimizer = torch.optim.Adam(net.parameters(), lr=.0001)\n",
    "    net.train()\n",
    "    net.cuda()\n",
    "    loss_history = []\n",
    "    print(\"[\", end=\"\")\n",
    "    for epoch in range(400):\n",
    "        print(\"-\", end=\"\")\n",
    "        if (epoch + 1) % 50 == 0:\n",
    "            print(\"]\", end=\"\\n[\")\n",
    "        for A, B in list(zip(d1, d2)):\n",
    "            loss_ = pass_(A, B, net, optimizer)\n",
    "            if loss_ is not None:\n",
    "                loss = loss_\n",
    "        loss_history.append([loss])\n",
    "        print(loss)\n",
    "    print(\"]\")\n",
    "    return loss_history\n",
    "\n",
    "def pass_(A, B, net, optimizer):\n",
    "    \n",
    "    if A[0].size()[0] == BATCH_SIZE:\n",
    "                image_A = A[0].cuda()\n",
    "                image_B = B[0].cuda()\n",
    "                optimizer.zero_grad()\n",
    "                \n",
    "                nA = net(image_A)[::, ::].reshape(-1, BATCH_SIZE, N * N)\n",
    "                nB = net(image_B)[::, ::].reshape(-1, BATCH_SIZE, N * N)\n",
    "\n",
    "                cc = torch.einsum(\"icn,ick->ink\", nA, nB)\n",
    "\n",
    "                cc_A = torch.softmax(cc, axis=1)\n",
    "                cc_B = torch.softmax(cc, axis=2)\n",
    "                loss = cc_A * cc_B\n",
    "                loss = torch.clamp(loss, max=.3)\n",
    "                loss = -torch.sum(loss) / BATCH_SIZE / (N * N)\n",
    "\n",
    "                loss.backward()\n",
    "                optimizer.step()\n",
    "                return loss.detach()"
   ]
  },
  {
   "cell_type": "code",
   "execution_count": null,
   "metadata": {},
   "outputs": [],
   "source": [
    "l = train(net, d1_mnist, d2_mnist)"
   ]
  },
  {
   "cell_type": "code",
   "execution_count": null,
   "metadata": {},
   "outputs": [],
   "source": [
    "A = list(d1_mnist)[0][0][:1]\n",
    "B = list(d1_mnist)[1][0][:1]\n",
    "plt.subplot(1, 2, 1)\n",
    "show(B)\n",
    "plt.subplot(1, 2, 2)\n",
    "show(A)\n",
    "plt.show()"
   ]
  },
  {
   "cell_type": "code",
   "execution_count": null,
   "metadata": {},
   "outputs": [],
   "source": [
    "net.cpu()"
   ]
  },
  {
   "cell_type": "code",
   "execution_count": null,
   "metadata": {},
   "outputs": [],
   "source": [
    "for i in range(30):\n",
    "    plt.subplot(5, 6, i + 1)\n",
    "    plt.xticks([])\n",
    "    plt.yticks([])\n",
    "    show(net(A)[0, i])\n",
    "    #plt.colorbar()\n"
   ]
  },
  {
   "cell_type": "code",
   "execution_count": null,
   "metadata": {},
   "outputs": [],
   "source": [
    "nA = net(A).reshape(-1, 64, N * N)\n",
    "nB = net(B).reshape(-1, 64, N * N)\n",
    "\n",
    "cc = torch.einsum(\"icn,ick->ink\", nA, nB)\n",
    "\n",
    "cc_A = torch.softmax(cc, axis=1)\n",
    "cc_B = torch.softmax(cc, axis=2)\n",
    "loss = cc_A * cc_B\n",
    "\n",
    "show(loss)\n",
    "plt.colorbar()\n",
    "net(A).shape"
   ]
  },
  {
   "cell_type": "code",
   "execution_count": null,
   "metadata": {},
   "outputs": [],
   "source": []
  },
  {
   "cell_type": "code",
   "execution_count": null,
   "metadata": {},
   "outputs": [],
   "source": [
    "i, j = 10, 12\n",
    "\n",
    "show(cc_A.reshape([N] * 4)[i, j])\n",
    "plt.colorbar()\n",
    "def argmax_2d(arr):\n",
    "    ind = np.argmax(arr)\n",
    "    return [ind % arr.shape[0], ind // arr.shape[0]]\n",
    "import scipy.ndimage.measurements\n",
    "#x, y = argmax_2d(cc_A.reshape([28] * 4)[:, :, i, j])\n",
    "y, x = scipy.ndimage.measurements.center_of_mass(cc_A.reshape([N] * 4)[:, :, i, j].detach().numpy())\n",
    "\n",
    "plt.scatter(x, y)\n",
    "\n",
    "reshaped = cc_A.reshape([N] * 4).detach().numpy()\n"
   ]
  },
  {
   "cell_type": "code",
   "execution_count": null,
   "metadata": {},
   "outputs": [],
   "source": [
    "import scipy.ndimage\n",
    "grid = np.array([\n",
    "    [\n",
    "        #(argmax_2d(reshaped[i, j]) if (np.max(reshaped[i, j]) > .01) else [np.nan, np.nan])\n",
    "        scipy.ndimage.measurements.center_of_mass(reshaped[i, j].transpose())\n",
    "\n",
    "        for i in range(N)]\n",
    "    for j in range(N)\n",
    "])\n",
    "grid.shape\n",
    "grid = grid.astype(float)\n",
    "#grid[:, :, 0] = scipy.ndimage.gaussian_filter(grid[:, :, 0], 1)\n",
    "#grid[:, :, 1] = scipy.ndimage.gaussian_filter(grid[:, :, 1], 1)\n",
    "\n",
    "grid = grid[3:-3, 3:-3]\n",
    "\n",
    "\n",
    "plt.plot(grid[:, :, 0], grid[:, :, 1])\n",
    "plt.plot(grid[:, :, 0].transpose(), grid[:, :, 1].transpose())\n",
    "plt.ylim(N, 0)\n",
    "plt.show()\n",
    "show(B)\n",
    "plt.scatter(grid[:, :, 0], grid[:, :, 1], c=\"red\", s=100)\n",
    "plt.scatter(grid[:, :, 0], grid[:, :, 1], c=np.array(A[0, 0, 3:-3, 3:-3]).transpose(), s=30)\n",
    "plt.ylim(N, 0)\n",
    "plt.show()"
   ]
  },
  {
   "cell_type": "code",
   "execution_count": null,
   "metadata": {},
   "outputs": [],
   "source": []
  },
  {
   "cell_type": "code",
   "execution_count": null,
   "metadata": {},
   "outputs": [],
   "source": [
    "C"
   ]
  },
  {
   "cell_type": "code",
   "execution_count": null,
   "metadata": {},
   "outputs": [],
   "source": [
    "show(torch.sum(loss, axis=1).reshape(N, N))\n",
    "plt.colorbar()"
   ]
  },
  {
   "cell_type": "code",
   "execution_count": null,
   "metadata": {},
   "outputs": [],
   "source": [
    "A.size()"
   ]
  },
  {
   "cell_type": "code",
   "execution_count": null,
   "metadata": {},
   "outputs": [],
   "source": [
    "out_norms = torch.sqrt(torch.sum(net(A)**2, 1, keepdim=True))"
   ]
  },
  {
   "cell_type": "code",
   "execution_count": null,
   "metadata": {},
   "outputs": [],
   "source": [
    "show(out_norms)\n",
    "plt.colorbar()"
   ]
  },
  {
   "cell_type": "code",
   "execution_count": null,
   "metadata": {},
   "outputs": [],
   "source": [
    "torch.clamp?"
   ]
  },
  {
   "cell_type": "code",
   "execution_count": null,
   "metadata": {},
   "outputs": [],
   "source": [
    "show(cc)\n",
    "plt.colorbar()"
   ]
  },
  {
   "cell_type": "code",
   "execution_count": null,
   "metadata": {},
   "outputs": [],
   "source": [
    "scipy.ndimage.measurements.center_of_mass(np.array(cc_A.reshape([28] * 4)[:, :, i, j].detach()))"
   ]
  },
  {
   "cell_type": "code",
   "execution_count": null,
   "metadata": {},
   "outputs": [],
   "source": [
    "show(cc_A.reshape([28] * 4)[:, :, i, j].cpu().detach())"
   ]
  },
  {
   "cell_type": "code",
   "execution_count": null,
   "metadata": {},
   "outputs": [],
   "source": [
    "plt.plot(cc[0, 0].detach())"
   ]
  },
  {
   "cell_type": "code",
   "execution_count": null,
   "metadata": {},
   "outputs": [],
   "source": [
    "show(cc_A)"
   ]
  },
  {
   "cell_type": "code",
   "execution_count": null,
   "metadata": {},
   "outputs": [],
   "source": [
    "from sklearn.decomposition import PCA\n",
    "pca = PCA(n_components=180)\n",
    "pca.fit(cc_A.detach()[0])"
   ]
  },
  {
   "cell_type": "code",
   "execution_count": null,
   "metadata": {},
   "outputs": [],
   "source": [
    "pca.explained_variance_ratio_"
   ]
  },
  {
   "cell_type": "code",
   "execution_count": null,
   "metadata": {},
   "outputs": [],
   "source": [
    "plt.plot(np.cumsum(pca.explained_variance_ratio_))\n",
    "plt.xlabel(\"eigenvector\")\n",
    "plt.ylabel(\"Cumulative explained variance\")\n"
   ]
  },
  {
   "cell_type": "code",
   "execution_count": null,
   "metadata": {},
   "outputs": [],
   "source": [
    "torch.save(net.state_dict(), \"tri_cir_hol.pth\")"
   ]
  },
  {
   "cell_type": "code",
   "execution_count": null,
   "metadata": {},
   "outputs": [],
   "source": []
  }
 ],
 "metadata": {
  "accelerator": "GPU",
  "colab": {
   "collapsed_sections": [],
   "name": "Copy of ICONLearningRegularMapsThroughInverseConsistency.ipynb",
   "provenance": []
  },
  "kernelspec": {
   "display_name": "Python 3",
   "language": "python",
   "name": "python3"
  },
  "language_info": {
   "codemirror_mode": {
    "name": "ipython",
    "version": 3
   },
   "file_extension": ".py",
   "mimetype": "text/x-python",
   "name": "python",
   "nbconvert_exporter": "python",
   "pygments_lexer": "ipython3",
   "version": "3.8.3"
  },
  "widgets": {
   "application/vnd.jupyter.widget-state+json": {
    "1858db9bce1b49f296cb628179e31921": {
     "model_module": "@jupyter-widgets/base",
     "model_module_version": "1.2.0",
     "model_name": "LayoutModel",
     "state": {
      "_model_module": "@jupyter-widgets/base",
      "_model_module_version": "1.2.0",
      "_model_name": "LayoutModel",
      "_view_count": null,
      "_view_module": "@jupyter-widgets/base",
      "_view_module_version": "1.2.0",
      "_view_name": "LayoutView",
      "align_content": null,
      "align_items": null,
      "align_self": null,
      "border": null,
      "bottom": null,
      "display": null,
      "flex": null,
      "flex_flow": null,
      "grid_area": null,
      "grid_auto_columns": null,
      "grid_auto_flow": null,
      "grid_auto_rows": null,
      "grid_column": null,
      "grid_gap": null,
      "grid_row": null,
      "grid_template_areas": null,
      "grid_template_columns": null,
      "grid_template_rows": null,
      "height": null,
      "justify_content": null,
      "justify_items": null,
      "left": null,
      "margin": null,
      "max_height": null,
      "max_width": null,
      "min_height": null,
      "min_width": null,
      "object_fit": null,
      "object_position": null,
      "order": null,
      "overflow": null,
      "overflow_x": null,
      "overflow_y": null,
      "padding": null,
      "right": null,
      "top": null,
      "visibility": null,
      "width": null
     }
    },
    "51d9b1257d324809afa068dd7414a1cd": {
     "model_module": "@jupyter-widgets/controls",
     "model_module_version": "1.5.0",
     "model_name": "HTMLModel",
     "state": {
      "_dom_classes": [],
      "_model_module": "@jupyter-widgets/controls",
      "_model_module_version": "1.5.0",
      "_model_name": "HTMLModel",
      "_view_count": null,
      "_view_module": "@jupyter-widgets/controls",
      "_view_module_version": "1.5.0",
      "_view_name": "HTMLView",
      "description": "",
      "description_tooltip": null,
      "layout": "IPY_MODEL_7972f69c3ede41e1825eab68953494cd",
      "placeholder": "​",
      "style": "IPY_MODEL_cd193585601e420b941f602f55de3b46",
      "value": " 3400704/9912422 [01:02&lt;01:57, 55653.17it/s]"
     }
    },
    "51daaf17ebb04c39b5d0d9e885c83144": {
     "model_module": "@jupyter-widgets/controls",
     "model_module_version": "1.5.0",
     "model_name": "HTMLModel",
     "state": {
      "_dom_classes": [],
      "_model_module": "@jupyter-widgets/controls",
      "_model_module_version": "1.5.0",
      "_model_name": "HTMLModel",
      "_view_count": null,
      "_view_module": "@jupyter-widgets/controls",
      "_view_module_version": "1.5.0",
      "_view_name": "HTMLView",
      "description": "",
      "description_tooltip": null,
      "layout": "IPY_MODEL_1858db9bce1b49f296cb628179e31921",
      "placeholder": "​",
      "style": "IPY_MODEL_6ebd75b4d21f4555a58ab0cdb073bf8f",
      "value": " 34%"
     }
    },
    "6ebd75b4d21f4555a58ab0cdb073bf8f": {
     "model_module": "@jupyter-widgets/controls",
     "model_module_version": "1.5.0",
     "model_name": "DescriptionStyleModel",
     "state": {
      "_model_module": "@jupyter-widgets/controls",
      "_model_module_version": "1.5.0",
      "_model_name": "DescriptionStyleModel",
      "_view_count": null,
      "_view_module": "@jupyter-widgets/base",
      "_view_module_version": "1.2.0",
      "_view_name": "StyleView",
      "description_width": ""
     }
    },
    "730c5d382e164e2786e2e314d77cd204": {
     "model_module": "@jupyter-widgets/base",
     "model_module_version": "1.2.0",
     "model_name": "LayoutModel",
     "state": {
      "_model_module": "@jupyter-widgets/base",
      "_model_module_version": "1.2.0",
      "_model_name": "LayoutModel",
      "_view_count": null,
      "_view_module": "@jupyter-widgets/base",
      "_view_module_version": "1.2.0",
      "_view_name": "LayoutView",
      "align_content": null,
      "align_items": null,
      "align_self": null,
      "border": null,
      "bottom": null,
      "display": null,
      "flex": null,
      "flex_flow": null,
      "grid_area": null,
      "grid_auto_columns": null,
      "grid_auto_flow": null,
      "grid_auto_rows": null,
      "grid_column": null,
      "grid_gap": null,
      "grid_row": null,
      "grid_template_areas": null,
      "grid_template_columns": null,
      "grid_template_rows": null,
      "height": null,
      "justify_content": null,
      "justify_items": null,
      "left": null,
      "margin": null,
      "max_height": null,
      "max_width": null,
      "min_height": null,
      "min_width": null,
      "object_fit": null,
      "object_position": null,
      "order": null,
      "overflow": null,
      "overflow_x": null,
      "overflow_y": null,
      "padding": null,
      "right": null,
      "top": null,
      "visibility": null,
      "width": null
     }
    },
    "7972f69c3ede41e1825eab68953494cd": {
     "model_module": "@jupyter-widgets/base",
     "model_module_version": "1.2.0",
     "model_name": "LayoutModel",
     "state": {
      "_model_module": "@jupyter-widgets/base",
      "_model_module_version": "1.2.0",
      "_model_name": "LayoutModel",
      "_view_count": null,
      "_view_module": "@jupyter-widgets/base",
      "_view_module_version": "1.2.0",
      "_view_name": "LayoutView",
      "align_content": null,
      "align_items": null,
      "align_self": null,
      "border": null,
      "bottom": null,
      "display": null,
      "flex": null,
      "flex_flow": null,
      "grid_area": null,
      "grid_auto_columns": null,
      "grid_auto_flow": null,
      "grid_auto_rows": null,
      "grid_column": null,
      "grid_gap": null,
      "grid_row": null,
      "grid_template_areas": null,
      "grid_template_columns": null,
      "grid_template_rows": null,
      "height": null,
      "justify_content": null,
      "justify_items": null,
      "left": null,
      "margin": null,
      "max_height": null,
      "max_width": null,
      "min_height": null,
      "min_width": null,
      "object_fit": null,
      "object_position": null,
      "order": null,
      "overflow": null,
      "overflow_x": null,
      "overflow_y": null,
      "padding": null,
      "right": null,
      "top": null,
      "visibility": null,
      "width": null
     }
    },
    "8015e348650a47a1823c135f4ca49703": {
     "model_module": "@jupyter-widgets/controls",
     "model_module_version": "1.5.0",
     "model_name": "HBoxModel",
     "state": {
      "_dom_classes": [],
      "_model_module": "@jupyter-widgets/controls",
      "_model_module_version": "1.5.0",
      "_model_name": "HBoxModel",
      "_view_count": null,
      "_view_module": "@jupyter-widgets/controls",
      "_view_module_version": "1.5.0",
      "_view_name": "HBoxView",
      "box_style": "",
      "children": [
       "IPY_MODEL_51daaf17ebb04c39b5d0d9e885c83144",
       "IPY_MODEL_ee628d85981747da8c7bd81a2e487049",
       "IPY_MODEL_51d9b1257d324809afa068dd7414a1cd"
      ],
      "layout": "IPY_MODEL_730c5d382e164e2786e2e314d77cd204"
     }
    },
    "878a5e5b02d94ca8972668b34e42175f": {
     "model_module": "@jupyter-widgets/controls",
     "model_module_version": "1.5.0",
     "model_name": "ProgressStyleModel",
     "state": {
      "_model_module": "@jupyter-widgets/controls",
      "_model_module_version": "1.5.0",
      "_model_name": "ProgressStyleModel",
      "_view_count": null,
      "_view_module": "@jupyter-widgets/base",
      "_view_module_version": "1.2.0",
      "_view_name": "StyleView",
      "bar_color": null,
      "description_width": ""
     }
    },
    "c24314cb50e24a83970b625b781eb65f": {
     "model_module": "@jupyter-widgets/base",
     "model_module_version": "1.2.0",
     "model_name": "LayoutModel",
     "state": {
      "_model_module": "@jupyter-widgets/base",
      "_model_module_version": "1.2.0",
      "_model_name": "LayoutModel",
      "_view_count": null,
      "_view_module": "@jupyter-widgets/base",
      "_view_module_version": "1.2.0",
      "_view_name": "LayoutView",
      "align_content": null,
      "align_items": null,
      "align_self": null,
      "border": null,
      "bottom": null,
      "display": null,
      "flex": null,
      "flex_flow": null,
      "grid_area": null,
      "grid_auto_columns": null,
      "grid_auto_flow": null,
      "grid_auto_rows": null,
      "grid_column": null,
      "grid_gap": null,
      "grid_row": null,
      "grid_template_areas": null,
      "grid_template_columns": null,
      "grid_template_rows": null,
      "height": null,
      "justify_content": null,
      "justify_items": null,
      "left": null,
      "margin": null,
      "max_height": null,
      "max_width": null,
      "min_height": null,
      "min_width": null,
      "object_fit": null,
      "object_position": null,
      "order": null,
      "overflow": null,
      "overflow_x": null,
      "overflow_y": null,
      "padding": null,
      "right": null,
      "top": null,
      "visibility": null,
      "width": null
     }
    },
    "cd193585601e420b941f602f55de3b46": {
     "model_module": "@jupyter-widgets/controls",
     "model_module_version": "1.5.0",
     "model_name": "DescriptionStyleModel",
     "state": {
      "_model_module": "@jupyter-widgets/controls",
      "_model_module_version": "1.5.0",
      "_model_name": "DescriptionStyleModel",
      "_view_count": null,
      "_view_module": "@jupyter-widgets/base",
      "_view_module_version": "1.2.0",
      "_view_name": "StyleView",
      "description_width": ""
     }
    },
    "ee628d85981747da8c7bd81a2e487049": {
     "model_module": "@jupyter-widgets/controls",
     "model_module_version": "1.5.0",
     "model_name": "FloatProgressModel",
     "state": {
      "_dom_classes": [],
      "_model_module": "@jupyter-widgets/controls",
      "_model_module_version": "1.5.0",
      "_model_name": "FloatProgressModel",
      "_view_count": null,
      "_view_module": "@jupyter-widgets/controls",
      "_view_module_version": "1.5.0",
      "_view_name": "ProgressView",
      "bar_style": "",
      "description": "",
      "description_tooltip": null,
      "layout": "IPY_MODEL_c24314cb50e24a83970b625b781eb65f",
      "max": 9912422,
      "min": 0,
      "orientation": "horizontal",
      "style": "IPY_MODEL_878a5e5b02d94ca8972668b34e42175f",
      "value": 3400704
     }
    }
   }
  }
 },
 "nbformat": 4,
 "nbformat_minor": 1
}
