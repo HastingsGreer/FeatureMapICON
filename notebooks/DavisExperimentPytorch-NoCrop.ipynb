{
 "cells": [
  {
   "cell_type": "code",
   "execution_count": 1,
   "id": "e406398d",
   "metadata": {},
   "outputs": [],
   "source": [
    "import os\n",
    "os.environ[\"CUDA_VISIBLE_DEVICES\"] = \"3\""
   ]
  },
  {
   "cell_type": "code",
   "execution_count": 13,
   "id": "5c9a934d",
   "metadata": {},
   "outputs": [],
   "source": [
    "import subprocess\n",
    "import footsteps\n",
    "import os\n",
    "import glob\n",
    "from PIL import Image\n",
    "import numpy as np\n",
    "import tqdm\n",
    "import torch\n",
    "\n",
    "def DavisEval(model, name):\n",
    "    davis_path = \"data_storage/DAVIS/\"\n",
    "    output_path = footsteps.output_dir + name + \"/\"\n",
    "    \n",
    "    os.mkdir(output_path)\n",
    "    with open(davis_path + \"/ImageSets/2017/val.txt\", \"r\") as f:\n",
    "        sequences = f.readlines()\n",
    "    for sequence in tqdm.tqdm(sequences):\n",
    "        sequence = sequence[:-1]  # strip newline\n",
    "        sequence_out_path = output_path + sequence + \"/\"\n",
    "        sequence_img_path = davis_path + \"JPEGImages/480p/\" + sequence + \"/\"\n",
    "        with open(davis_path + \"Annotations/480p/\" + sequence + \"/00000.png\", \"rb\") as handle:\n",
    "          first_annotation = np.array(\n",
    "            Image.open(handle)\n",
    "          )\n",
    "\n",
    "        os.mkdir(output_path + sequence)\n",
    "        with open(sequence_img_path + \"00000.jpg\", \"rb\") as handle:\n",
    "          first_image = np.array(Image.open(handle))\n",
    "\n",
    "        prev_image = first_image\n",
    "        prev_annotation = first_annotation\n",
    "\n",
    "        for i in range(1, len(os.listdir(sequence_img_path))):\n",
    "            with open(sequence_img_path + f\"{i:05}.jpg\", \"rb\") as handle:\n",
    "              curr_image = np.array(Image.open(handle))\n",
    "            annotation = model(\n",
    "                first_image, first_annotation, prev_image, prev_annotation, curr_image\n",
    "            )\n",
    "            Image.fromarray(annotation).save(sequence_out_path + f\"{i:05}.png\")\n",
    "\n",
    "            prev_image = curr_image\n",
    "            prev_annoration = first_annotation\n",
    "    \n",
    "    subprocess.run(\n",
    "        [\n",
    "            \"python\",\n",
    "            \"davis2017-evaluation/evaluation_method.py\",\n",
    "            \"--davis_path\",\n",
    "            \"data_storage/DAVIS\",\n",
    "            \"--results_path\",\n",
    "            output_path,\n",
    "            \"--task\",\n",
    "            \"semi-supervised\",\n",
    "        ]\n",
    "    )\n"
   ]
  },
  {
   "cell_type": "code",
   "execution_count": null,
   "id": "795c80f4",
   "metadata": {},
   "outputs": [],
   "source": []
  },
  {
   "cell_type": "code",
   "execution_count": 14,
   "id": "86076155",
   "metadata": {},
   "outputs": [],
   "source": [
    "import pytorch.training"
   ]
  },
  {
   "cell_type": "code",
   "execution_count": 18,
   "id": "591c33e9",
   "metadata": {
    "scrolled": true
   },
   "outputs": [],
   "source": [
    "\n",
    "import matplotlib.pyplot as plt\n",
    "import torch.nn as nn\n",
    "import torch.nn.functional as F\n",
    "l = []\n",
    "\n",
    "def execute_model(A, B, model, N=10):\n",
    "    SIDE_LENGTH = 60\n",
    "    FEATURE_LENGTH = 128\n",
    "    \n",
    "    A = torch.tensor(A).cuda().permute(0, 3, 1, 2).float()\n",
    "    B = torch.tensor(B).cuda().permute(0, 3, 1, 2).float()\n",
    "    feats_a = F.avg_pool2d(model(A), 2)\n",
    "    feats_b = F.avg_pool2d(model(B), 2)\n",
    "\n",
    "    # to (N, C, H*W)\n",
    "    feats_a = feats_a.reshape(feats_a.shape[0],\n",
    "        feats_a.shape[1], feats_a.shape[2] * feats_a.shape[3])\n",
    "    feats_b = feats_b.reshape(feats_b.shape[0],\n",
    "        feats_b.shape[1], feats_b.shape[2] * feats_b.shape[3])\n",
    "\n",
    "    feats_a = feats_a.permute(0, 2, 1)\n",
    "\n",
    "    #return feats_a\n",
    "    cc = torch.bmm(feats_a, feats_b)\n",
    "\n",
    "    cc = nn.functional.softmax(cc, dim=-1)\n",
    "\n",
    "\n",
    "    cc = cc.reshape([N] + [SIDE_LENGTH] * 4)\n",
    "    cc = np.array(cc.cpu().detach())\n",
    "\n",
    "\n",
    "\n",
    "    import scipy.ndimage\n",
    "    grid = np.array(\n",
    "      [\n",
    "        [\n",
    "            [\n",
    "                scipy.ndimage.measurements.center_of_mass(cc[k, i, j].transpose())\n",
    "                for i in range(SIDE_LENGTH)\n",
    "            ]\n",
    "            for j in range(SIDE_LENGTH)\n",
    "        ]\n",
    "       for k in range(N)]\n",
    "    )\n",
    "    return cc, grid\n",
    "\n",
    "class FMAPICON_model:\n",
    "    def __init__(self, weights_path):\n",
    "        self.inner_model = pytorch.training.tallerUNet2().cuda()\n",
    "        self.inner_model.load_state_dict(torch.load(weights_path))\n",
    "        \n",
    "    def __call__(self, initial_frame, initial_mask, prev_frame, prev_mask, current_frame):\n",
    "        crop = (initial_frame.shape[1] - initial_frame.shape[0]) // 2\n",
    "        B = initial_frame[None, ::4, crop:-crop:4] / 255.   \n",
    "        A = current_frame[None, ::4, crop:-crop:4] / 255.\n",
    "        \n",
    "        cc, grid = execute_model(A, B, self.inner_model, N=1)\n",
    "        m = initial_mask[4::8, 4+crop:-crop:8]\n",
    "\n",
    "        shitty_res = m[grid[0, :, :, 1].astype(int), grid[0, :, :, 0].astype(int)].transpose()\n",
    "\n",
    "        up_res = np.repeat(np.repeat(shitty_res, 8, axis=0),8, axis=1)\n",
    "        \n",
    "        out_mask = initial_mask.copy()\n",
    "        \n",
    "        out_mask[:, crop:-crop] = up_res\n",
    "        \"\"\"\n",
    "        plt.imshow(A[0])\n",
    "        plt.show()\n",
    "        plt.imshow(B[0])\n",
    "        plt.show()\n",
    "        plt.imshow(shitty_res)\n",
    "        plt.show()\n",
    "        plt.imshow(out_mask)\n",
    "        plt.show()\n",
    "        #l.append(up_res)\n",
    "        \n",
    "        plt.imshow(grid[0, :, :, 0].transpose())\n",
    "        plt.show()\n",
    "        \n",
    "        l.append((cc, A, B, initial_mask))\n",
    "        \"\"\"\n",
    "        \n",
    "\n",
    "        return out_mask\n",
    "\n",
    "#DavisEval(FMAPICON_model(\"tensorflow_/results/log_probability_2/epoch50/model_weights.tf\"), \"FMAPICON\")\n",
    "#DavisEval(FMAPICON_model(\"tensorflow_/results/clip.6_11/epoch51/model_weights.tf\"), \"FMAPICON\")"
   ]
  },
  {
   "cell_type": "code",
   "execution_count": 17,
   "id": "03f802d8",
   "metadata": {},
   "outputs": [
    {
     "name": "stderr",
     "output_type": "stream",
     "text": [
      "100%|█████████████████████████████████████████████████████████████████████████| 30/30 [09:40<00:00, 19.35s/it]\n"
     ]
    },
    {
     "name": "stdout",
     "output_type": "stream",
     "text": [
      "Evaluating sequences for the semi-supervised task...\n"
     ]
    },
    {
     "name": "stderr",
     "output_type": "stream",
     "text": [
      "100%|██████████| 30/30 [01:29<00:00,  2.97s/it]\n"
     ]
    },
    {
     "name": "stdout",
     "output_type": "stream",
     "text": [
      "Global results saved in results/downsampled_training/FMAPICON_downsample_fullres_eval00000/global_results-val.csv\n",
      "Per-sequence results saved in results/downsampled_training/FMAPICON_downsample_fullres_eval00000/per-sequence_results-val.csv\n",
      "--------------------------- Global results for val ---------------------------\n",
      " J&F-Mean  J-Mean  J-Recall  J-Decay   F-Mean  F-Recall  F-Decay\n",
      "  0.05059 0.05816  0.009567 0.030767 0.043021  0.010166 0.030604\n",
      "\n",
      "---------- Per sequence results for val ----------\n",
      "            Sequence   J-Mean   F-Mean\n",
      "      bike-packing_1 0.000000 0.000000\n",
      "      bike-packing_2 0.000064 0.002271\n",
      "         blackswan_1 0.015872 0.209976\n",
      "         bmx-trees_1 0.018634 0.123905\n",
      "         bmx-trees_2 0.000000 0.000000\n",
      "        breakdance_1 0.000000 0.000000\n",
      "             camel_1 0.213187 0.005458\n",
      "    car-roundabout_1 0.241325 0.024031\n",
      "        car-shadow_1 0.107566 0.000000\n",
      "              cows_1 0.205231 0.032716\n",
      "       dance-twirl_1 0.151399 0.000000\n",
      "               dog_1 0.191651 0.016128\n",
      "         dogs-jump_1 0.000000 0.000000\n",
      "         dogs-jump_2 0.000000 0.000000\n",
      "         dogs-jump_3 0.035342 0.018312\n",
      "     drift-chicane_1 0.002060 0.012979\n",
      "    drift-straight_1 0.008073 0.042681\n",
      "              goat_1 0.108398 0.030203\n",
      "         gold-fish_1 0.058415 0.073865\n",
      "         gold-fish_2 0.000000 0.000000\n",
      "         gold-fish_3 0.000000 0.000000\n",
      "         gold-fish_4 0.059395 0.103246\n",
      "         gold-fish_5 0.145139 0.142221\n",
      "    horsejump-high_1 0.025347 0.054324\n",
      "    horsejump-high_2 0.000000 0.000000\n",
      "             india_1 0.203423 0.147748\n",
      "             india_2 0.177215 0.177215\n",
      "             india_3 0.089795 0.048628\n",
      "              judo_1 0.160622 0.293201\n",
      "              judo_2 0.084821 0.154659\n",
      "         kite-surf_1 0.000534 0.032477\n",
      "         kite-surf_2 0.250000 0.250000\n",
      "         kite-surf_3 0.000000 0.000000\n",
      "          lab-coat_1 0.000000 0.000000\n",
      "          lab-coat_2 0.000000 0.000000\n",
      "          lab-coat_3 0.173317 0.010902\n",
      "          lab-coat_4 0.000000 0.000000\n",
      "          lab-coat_5 0.000000 0.000000\n",
      "             libby_1 0.054644 0.033276\n",
      "           loading_1 0.045625 0.061298\n",
      "           loading_2 0.000000 0.000000\n",
      "           loading_3 0.000000 0.000000\n",
      "       mbike-trick_1 0.000000 0.000000\n",
      "       mbike-trick_2 0.000000 0.000000\n",
      "    motocross-jump_1 0.000000 0.000000\n",
      "    motocross-jump_2 0.000000 0.000000\n",
      "paragliding-launch_1 0.034860 0.000000\n",
      "paragliding-launch_2 0.000000 0.000000\n",
      "paragliding-launch_3 0.000000 0.000000\n",
      "           parkour_1 0.000000 0.000000\n",
      "              pigs_1 0.235326 0.156096\n",
      "              pigs_2 0.031046 0.084377\n",
      "              pigs_3 0.302932 0.070226\n",
      "     scooter-black_1 0.000000 0.000000\n",
      "     scooter-black_2 0.000000 0.002180\n",
      "          shooting_1 0.094260 0.039098\n",
      "          shooting_2 0.000000 0.000000\n",
      "          shooting_3 0.000000 0.000000\n",
      "           soapbox_1 0.005327 0.058840\n",
      "           soapbox_2 0.000000 0.000000\n",
      "           soapbox_3 0.016888 0.111719\n",
      "\n",
      "Total time:89.1821985244751"
     ]
    },
    {
     "name": "stderr",
     "output_type": "stream",
     "text": [
      "100%|█████████████████████████████████████████████████████████████████████████| 30/30 [09:44<00:00, 19.49s/it]\n"
     ]
    },
    {
     "name": "stdout",
     "output_type": "stream",
     "text": [
      "Evaluating sequences for the semi-supervised task...\n"
     ]
    },
    {
     "name": "stderr",
     "output_type": "stream",
     "text": [
      "100%|██████████| 30/30 [01:30<00:00,  3.01s/it]\n"
     ]
    },
    {
     "name": "stdout",
     "output_type": "stream",
     "text": [
      "Global results saved in results/downsampled_training/FMAPICON_downsample_fullres_eval00003/global_results-val.csv\n",
      "Per-sequence results saved in results/downsampled_training/FMAPICON_downsample_fullres_eval00003/per-sequence_results-val.csv\n",
      "--------------------------- Global results for val ---------------------------\n",
      " J&F-Mean   J-Mean  J-Recall  J-Decay   F-Mean  F-Recall  F-Decay\n",
      " 0.195023 0.160724   0.05462 0.130598 0.229321   0.02982 0.140358\n",
      "\n",
      "---------- Per sequence results for val ----------\n",
      "            Sequence   J-Mean   F-Mean\n",
      "      bike-packing_1 0.208166 0.624617\n",
      "      bike-packing_2 0.231701 0.349531\n",
      "         blackswan_1 0.422904 0.320960\n",
      "         bmx-trees_1 0.035643 0.219066\n",
      "         bmx-trees_2 0.068369 0.159191\n",
      "        breakdance_1 0.167506 0.260376\n",
      "             camel_1 0.398179 0.383007\n",
      "    car-roundabout_1 0.599355 0.365741\n",
      "        car-shadow_1 0.420360 0.354412\n",
      "              cows_1 0.506500 0.406550\n",
      "       dance-twirl_1 0.164823 0.274138\n",
      "               dog_1 0.303810 0.241505\n",
      "         dogs-jump_1 0.057658 0.133258\n",
      "         dogs-jump_2 0.113734 0.185549\n",
      "         dogs-jump_3 0.234621 0.278413\n",
      "     drift-chicane_1 0.009904 0.036431\n",
      "    drift-straight_1 0.012100 0.067545\n",
      "              goat_1 0.188500 0.218273\n",
      "         gold-fish_1 0.078788 0.108339\n",
      "         gold-fish_2 0.133828 0.243391\n",
      "         gold-fish_3 0.222459 0.300733\n",
      "         gold-fish_4 0.118911 0.212759\n",
      "         gold-fish_5 0.300321 0.252131\n",
      "    horsejump-high_1 0.173489 0.360493\n",
      "    horsejump-high_2 0.098043 0.348752\n",
      "             india_1 0.209035 0.127529\n",
      "             india_2 0.140984 0.136140\n",
      "             india_3 0.150391 0.175135\n",
      "              judo_1 0.214965 0.317999\n",
      "              judo_2 0.204872 0.280201\n",
      "         kite-surf_1 0.062877 0.285050\n",
      "         kite-surf_2 0.002284 0.032996\n",
      "         kite-surf_3 0.153919 0.274641\n",
      "          lab-coat_1 0.002230 0.037892\n",
      "          lab-coat_2 0.000000 0.000000\n",
      "          lab-coat_3 0.122550 0.142101\n",
      "          lab-coat_4 0.169041 0.183136\n",
      "          lab-coat_5 0.106519 0.167269\n",
      "             libby_1 0.209600 0.378591\n",
      "           loading_1 0.211626 0.176838\n",
      "           loading_2 0.079177 0.240797\n",
      "           loading_3 0.115265 0.204618\n",
      "       mbike-trick_1 0.067664 0.248195\n",
      "       mbike-trick_2 0.200191 0.305561\n",
      "    motocross-jump_1 0.048039 0.181939\n",
      "    motocross-jump_2 0.109303 0.254647\n",
      "paragliding-launch_1 0.244994 0.219753\n",
      "paragliding-launch_2 0.062052 0.209783\n",
      "paragliding-launch_3 0.033254 0.342640\n",
      "           parkour_1 0.084165 0.189828\n",
      "              pigs_1 0.235326 0.156096\n",
      "              pigs_2 0.169374 0.311492\n",
      "              pigs_3 0.546180 0.362918\n",
      "     scooter-black_1 0.004998 0.051754\n",
      "     scooter-black_2 0.183680 0.405285\n",
      "          shooting_1 0.089490 0.156511\n",
      "          shooting_2 0.201850 0.308613\n",
      "          shooting_3 0.065831 0.180866\n",
      "           soapbox_1 0.007412 0.069439\n",
      "           soapbox_2 0.008239 0.054602\n",
      "           soapbox_3 0.017117 0.112570\n",
      "\n",
      "Total time:90.35279202461243"
     ]
    },
    {
     "name": "stderr",
     "output_type": "stream",
     "text": [
      "100%|█████████████████████████████████████████████████████████████████████████| 30/30 [09:43<00:00, 19.47s/it]\n",
      "  0%|          | 0/30 [00:00<?, ?it/s]"
     ]
    },
    {
     "name": "stdout",
     "output_type": "stream",
     "text": [
      "Evaluating sequences for the semi-supervised task...\n"
     ]
    },
    {
     "name": "stderr",
     "output_type": "stream",
     "text": [
      "100%|██████████| 30/30 [01:30<00:00,  3.01s/it]\n"
     ]
    },
    {
     "name": "stdout",
     "output_type": "stream",
     "text": [
      "Global results saved in results/downsampled_training/FMAPICON_downsample_fullres_eval00006/global_results-val.csv\n",
      "Per-sequence results saved in results/downsampled_training/FMAPICON_downsample_fullres_eval00006/per-sequence_results-val.csv\n",
      "--------------------------- Global results for val ---------------------------\n",
      " J&F-Mean   J-Mean  J-Recall  J-Decay   F-Mean  F-Recall  F-Decay\n",
      " 0.247875 0.205891  0.113143  0.22087 0.289858  0.136659 0.254476\n",
      "\n",
      "---------- Per sequence results for val ----------\n",
      "            Sequence   J-Mean   F-Mean\n",
      "      bike-packing_1 0.246737 0.619060\n",
      "      bike-packing_2 0.353134 0.472056\n",
      "         blackswan_1 0.579590 0.474768\n",
      "         bmx-trees_1 0.027602 0.153692\n",
      "         bmx-trees_2 0.083638 0.144659\n",
      "        breakdance_1 0.230795 0.302128\n",
      "             camel_1 0.427298 0.407815\n",
      "    car-roundabout_1 0.679424 0.405827\n",
      "        car-shadow_1 0.424725 0.374888\n",
      "              cows_1 0.556596 0.474148\n",
      "       dance-twirl_1 0.252336 0.393123\n",
      "               dog_1 0.395447 0.291494\n",
      "         dogs-jump_1 0.116317 0.213332\n",
      "         dogs-jump_2 0.113831 0.215600\n",
      "         dogs-jump_3 0.351607 0.440613\n",
      "     drift-chicane_1 0.014736 0.029415\n",
      "    drift-straight_1 0.076643 0.150930\n",
      "              goat_1 0.264616 0.270033\n",
      "         gold-fish_1 0.134385 0.158564\n",
      "         gold-fish_2 0.210757 0.338607\n",
      "         gold-fish_3 0.337430 0.411369\n",
      "         gold-fish_4 0.226719 0.303872\n",
      "         gold-fish_5 0.290772 0.288433\n",
      "    horsejump-high_1 0.183438 0.335781\n",
      "    horsejump-high_2 0.206404 0.464945\n",
      "             india_1 0.219371 0.133374\n",
      "             india_2 0.160846 0.158718\n",
      "             india_3 0.073442 0.201559\n",
      "              judo_1 0.345157 0.410730\n",
      "              judo_2 0.310742 0.393014\n",
      "         kite-surf_1 0.063241 0.270926\n",
      "         kite-surf_2 0.003494 0.047438\n",
      "         kite-surf_3 0.197033 0.339068\n",
      "          lab-coat_1 0.000725 0.116382\n",
      "          lab-coat_2 0.000000 0.000000\n",
      "          lab-coat_3 0.239305 0.266764\n",
      "          lab-coat_4 0.262751 0.278807\n",
      "          lab-coat_5 0.241697 0.323366\n",
      "             libby_1 0.231081 0.436674\n",
      "           loading_1 0.325011 0.266232\n",
      "           loading_2 0.125103 0.300926\n",
      "           loading_3 0.198714 0.263446\n",
      "       mbike-trick_1 0.133804 0.403757\n",
      "       mbike-trick_2 0.135330 0.368091\n",
      "    motocross-jump_1 0.057524 0.193215\n",
      "    motocross-jump_2 0.091861 0.210244\n",
      "paragliding-launch_1 0.194149 0.350972\n",
      "paragliding-launch_2 0.073860 0.257790\n",
      "paragliding-launch_3 0.039830 0.423827\n",
      "           parkour_1 0.090259 0.214263\n",
      "              pigs_1 0.235326 0.156096\n",
      "              pigs_2 0.281061 0.424913\n",
      "              pigs_3 0.611505 0.438651\n",
      "     scooter-black_1 0.029707 0.161012\n",
      "     scooter-black_2 0.120303 0.370009\n",
      "          shooting_1 0.109786 0.181871\n",
      "          shooting_2 0.242944 0.300462\n",
      "          shooting_3 0.170841 0.246904\n",
      "           soapbox_1 0.077448 0.309130\n",
      "           soapbox_2 0.048737 0.135527\n",
      "           soapbox_3 0.032403 0.192033\n",
      "\n",
      "Total time:90.21876883506775"
     ]
    },
    {
     "name": "stderr",
     "output_type": "stream",
     "text": [
      "100%|█████████████████████████████████████████████████████████████████████████| 30/30 [09:43<00:00, 19.43s/it]\n"
     ]
    },
    {
     "name": "stdout",
     "output_type": "stream",
     "text": [
      "Evaluating sequences for the semi-supervised task...\n"
     ]
    },
    {
     "name": "stderr",
     "output_type": "stream",
     "text": [
      "100%|██████████| 30/30 [01:29<00:00,  2.99s/it]\n"
     ]
    },
    {
     "name": "stdout",
     "output_type": "stream",
     "text": [
      "Global results saved in results/downsampled_training/FMAPICON_downsample_fullres_eval00009/global_results-val.csv\n",
      "Per-sequence results saved in results/downsampled_training/FMAPICON_downsample_fullres_eval00009/per-sequence_results-val.csv\n",
      "--------------------------- Global results for val ---------------------------\n",
      " J&F-Mean   J-Mean  J-Recall  J-Decay   F-Mean  F-Recall  F-Decay\n",
      "  0.26542 0.228548  0.151257 0.258126 0.302292  0.198669 0.293532\n",
      "\n",
      "---------- Per sequence results for val ----------\n",
      "            Sequence   J-Mean   F-Mean\n",
      "      bike-packing_1 0.253483 0.602674\n",
      "      bike-packing_2 0.421757 0.529237\n",
      "         blackswan_1 0.648079 0.569458\n",
      "         bmx-trees_1 0.042188 0.213487\n",
      "         bmx-trees_2 0.102713 0.150387\n",
      "        breakdance_1 0.242583 0.301421\n",
      "             camel_1 0.452737 0.421009\n",
      "    car-roundabout_1 0.701524 0.439398\n",
      "        car-shadow_1 0.404270 0.325592\n",
      "              cows_1 0.592446 0.505203\n",
      "       dance-twirl_1 0.298435 0.426363\n",
      "               dog_1 0.385880 0.291221\n",
      "         dogs-jump_1 0.108866 0.210046\n",
      "         dogs-jump_2 0.133909 0.204850\n",
      "         dogs-jump_3 0.449343 0.527881\n",
      "     drift-chicane_1 0.017729 0.041582\n",
      "    drift-straight_1 0.071342 0.149645\n",
      "              goat_1 0.264871 0.262533\n",
      "         gold-fish_1 0.145811 0.177183\n",
      "         gold-fish_2 0.272742 0.339449\n",
      "         gold-fish_3 0.393765 0.448399\n",
      "         gold-fish_4 0.252590 0.344097\n",
      "         gold-fish_5 0.390110 0.272847\n",
      "    horsejump-high_1 0.161308 0.283561\n",
      "    horsejump-high_2 0.069011 0.173907\n",
      "             india_1 0.260012 0.172293\n",
      "             india_2 0.222694 0.183382\n",
      "             india_3 0.263893 0.265258\n",
      "              judo_1 0.392486 0.444653\n",
      "              judo_2 0.303678 0.374994\n",
      "         kite-surf_1 0.070140 0.280958\n",
      "         kite-surf_2 0.023527 0.039032\n",
      "         kite-surf_3 0.210644 0.374919\n",
      "          lab-coat_1 0.005498 0.136183\n",
      "          lab-coat_2 0.000000 0.000000\n",
      "          lab-coat_3 0.234977 0.322837\n",
      "          lab-coat_4 0.263605 0.285877\n",
      "          lab-coat_5 0.228457 0.341247\n",
      "             libby_1 0.286434 0.479102\n",
      "           loading_1 0.353153 0.270533\n",
      "           loading_2 0.119069 0.278709\n",
      "           loading_3 0.210235 0.273036\n",
      "       mbike-trick_1 0.127487 0.387983\n",
      "       mbike-trick_2 0.203155 0.383068\n",
      "    motocross-jump_1 0.078137 0.193552\n",
      "    motocross-jump_2 0.098294 0.189857\n",
      "paragliding-launch_1 0.268149 0.397900\n",
      "paragliding-launch_2 0.104149 0.334918\n",
      "paragliding-launch_3 0.043353 0.420165\n",
      "           parkour_1 0.115105 0.222714\n",
      "              pigs_1 0.235326 0.156096\n",
      "              pigs_2 0.294902 0.449429\n",
      "              pigs_3 0.649836 0.469678\n",
      "     scooter-black_1 0.021912 0.108131\n",
      "     scooter-black_2 0.119036 0.322084\n",
      "          shooting_1 0.156401 0.208429\n",
      "          shooting_2 0.266215 0.320794\n",
      "          shooting_3 0.200896 0.345522\n",
      "           soapbox_1 0.096793 0.318158\n",
      "           soapbox_2 0.067580 0.194027\n",
      "           soapbox_3 0.068720 0.282893\n",
      "\n",
      "Total time:89.85159492492676"
     ]
    },
    {
     "name": "stderr",
     "output_type": "stream",
     "text": [
      "100%|█████████████████████████████████████████████████████████████████████████| 30/30 [09:40<00:00, 19.35s/it]\n"
     ]
    },
    {
     "name": "stdout",
     "output_type": "stream",
     "text": [
      "Evaluating sequences for the semi-supervised task...\n"
     ]
    },
    {
     "name": "stderr",
     "output_type": "stream",
     "text": [
      "100%|██████████| 30/30 [01:29<00:00,  2.99s/it]\n"
     ]
    },
    {
     "name": "stdout",
     "output_type": "stream",
     "text": [
      "Global results saved in results/downsampled_training/FMAPICON_downsample_fullres_eval00012/global_results-val.csv\n",
      "Per-sequence results saved in results/downsampled_training/FMAPICON_downsample_fullres_eval00012/per-sequence_results-val.csv\n",
      "--------------------------- Global results for val ---------------------------\n",
      " J&F-Mean   J-Mean  J-Recall  J-Decay   F-Mean  F-Recall  F-Decay\n",
      " 0.265812 0.231478  0.154478 0.263448 0.300146  0.201894 0.300235\n",
      "\n",
      "---------- Per sequence results for val ----------\n",
      "            Sequence   J-Mean   F-Mean\n",
      "      bike-packing_1 0.251618 0.599454\n",
      "      bike-packing_2 0.424582 0.529174\n",
      "         blackswan_1 0.667399 0.573464\n",
      "         bmx-trees_1 0.046512 0.219606\n",
      "         bmx-trees_2 0.102814 0.160456\n",
      "        breakdance_1 0.253963 0.307041\n",
      "             camel_1 0.461628 0.416693\n",
      "    car-roundabout_1 0.708802 0.438772\n",
      "        car-shadow_1 0.425683 0.327096\n",
      "              cows_1 0.574365 0.485212\n",
      "       dance-twirl_1 0.315007 0.425016\n",
      "               dog_1 0.375321 0.281227\n",
      "         dogs-jump_1 0.113703 0.246539\n",
      "         dogs-jump_2 0.139196 0.204297\n",
      "         dogs-jump_3 0.450905 0.521809\n",
      "     drift-chicane_1 0.020092 0.046577\n",
      "    drift-straight_1 0.054544 0.118740\n",
      "              goat_1 0.282234 0.272457\n",
      "         gold-fish_1 0.142085 0.177279\n",
      "         gold-fish_2 0.296561 0.349562\n",
      "         gold-fish_3 0.415791 0.467013\n",
      "         gold-fish_4 0.245363 0.298161\n",
      "         gold-fish_5 0.385988 0.254491\n",
      "    horsejump-high_1 0.160315 0.304499\n",
      "    horsejump-high_2 0.071191 0.173359\n",
      "             india_1 0.257200 0.159410\n",
      "             india_2 0.235546 0.189207\n",
      "             india_3 0.290652 0.268318\n",
      "              judo_1 0.428253 0.448770\n",
      "              judo_2 0.307591 0.370750\n",
      "         kite-surf_1 0.066416 0.283977\n",
      "         kite-surf_2 0.004719 0.068728\n",
      "         kite-surf_3 0.208543 0.382989\n",
      "          lab-coat_1 0.003478 0.168265\n",
      "          lab-coat_2 0.000000 0.000000\n",
      "          lab-coat_3 0.227247 0.310440\n",
      "          lab-coat_4 0.260068 0.287121\n",
      "          lab-coat_5 0.240302 0.334762\n",
      "             libby_1 0.301510 0.487066\n",
      "           loading_1 0.347565 0.256439\n",
      "           loading_2 0.096509 0.266992\n",
      "           loading_3 0.207459 0.273492\n",
      "       mbike-trick_1 0.108614 0.369013\n",
      "       mbike-trick_2 0.239540 0.395602\n",
      "    motocross-jump_1 0.073146 0.171577\n",
      "    motocross-jump_2 0.108009 0.173683\n",
      "paragliding-launch_1 0.304961 0.407075\n",
      "paragliding-launch_2 0.100358 0.323406\n",
      "paragliding-launch_3 0.041330 0.412792\n",
      "           parkour_1 0.108122 0.217252\n",
      "              pigs_1 0.235326 0.156096\n",
      "              pigs_2 0.295232 0.437947\n",
      "              pigs_3 0.649448 0.454385\n",
      "     scooter-black_1 0.020487 0.087393\n",
      "     scooter-black_2 0.108911 0.261289\n",
      "          shooting_1 0.162584 0.212370\n",
      "          shooting_2 0.250841 0.325854\n",
      "          shooting_3 0.178649 0.350430\n",
      "           soapbox_1 0.111886 0.324641\n",
      "           soapbox_2 0.061119 0.185917\n",
      "           soapbox_3 0.092902 0.287487\n",
      "\n",
      "Total time:89.89758229255676"
     ]
    },
    {
     "name": "stderr",
     "output_type": "stream",
     "text": [
      "100%|█████████████████████████████████████████████████████████████████████████| 30/30 [09:41<00:00, 19.37s/it]\n"
     ]
    },
    {
     "name": "stdout",
     "output_type": "stream",
     "text": [
      "Evaluating sequences for the semi-supervised task...\n"
     ]
    },
    {
     "name": "stderr",
     "output_type": "stream",
     "text": [
      " 97%|█████████▋| 29/30 [01:23<00:03,  3.17s/it]"
     ]
    },
    {
     "name": "stdout",
     "output_type": "stream",
     "text": [
      "Global results saved in results/downsampled_training/FMAPICON_downsample_fullres_eval00015/global_results-val.csv\n",
      "Per-sequence results saved in results/downsampled_training/FMAPICON_downsample_fullres_eval00015/per-sequence_results-val.csv\n",
      "--------------------------- Global results for val ---------------------------\n",
      " J&F-Mean   J-Mean  J-Recall  J-Decay  F-Mean  F-Recall  F-Decay\n",
      "  0.26954 0.236661  0.170083 0.274854 0.30242  0.215031 0.312953\n",
      "\n",
      "---------- Per sequence results for val ----------\n",
      "            Sequence   J-Mean   F-Mean\n",
      "      bike-packing_1 0.257844 0.588285\n",
      "      bike-packing_2 0.429301 0.533850\n",
      "         blackswan_1 0.685752 0.592269\n",
      "         bmx-trees_1 0.045777 0.214722\n",
      "         bmx-trees_2 0.104876 0.157948\n",
      "        breakdance_1 0.258375 0.302740\n",
      "             camel_1 0.479123 0.425402\n",
      "    car-roundabout_1 0.714543 0.450332\n",
      "        car-shadow_1 0.438555 0.331536\n",
      "              cows_1 0.585167 0.496744\n",
      "       dance-twirl_1 0.321599 0.420219\n",
      "               dog_1 0.373276 0.282224\n",
      "         dogs-jump_1 0.124973 0.257308\n",
      "         dogs-jump_2 0.131454 0.199854\n",
      "         dogs-jump_3 0.477634 0.548538\n",
      "     drift-chicane_1 0.024944 0.045679\n",
      "    drift-straight_1 0.052160 0.115521\n",
      "              goat_1 0.274034 0.254651\n",
      "         gold-fish_1 0.144338 0.176211\n",
      "         gold-fish_2 0.337872 0.393242\n",
      "         gold-fish_3 0.416964 0.480179\n",
      "         gold-fish_4 0.243652 0.287066\n",
      "         gold-fish_5 0.413384 0.282667\n",
      "    horsejump-high_1 0.149086 0.279850\n",
      "    horsejump-high_2 0.062422 0.133843\n",
      "             india_1 0.258174 0.159696\n",
      "             india_2 0.245053 0.198297\n",
      "             india_3 0.301963 0.276537\n",
      "              judo_1 0.473020 0.487825\n",
      "              judo_2 0.317699 0.389778\n",
      "         kite-surf_1 0.075242 0.285470\n",
      "         kite-surf_2 0.003594 0.058538\n",
      "         kite-surf_3 0.209719 0.392134\n",
      "          lab-coat_1 0.003478 0.144178\n",
      "          lab-coat_2 0.000000 0.000000\n",
      "          lab-coat_3 0.218294 0.320274\n",
      "          lab-coat_4 0.270136 0.290472\n",
      "          lab-coat_5 0.243521 0.344075\n",
      "             libby_1 0.313649 0.481201\n",
      "           loading_1 0.347384 0.245258\n",
      "           loading_2 0.109101 0.271887\n",
      "           loading_3 0.204417 0.256467\n",
      "       mbike-trick_1 0.112988 0.391690\n",
      "       mbike-trick_2 0.254230 0.402500\n",
      "    motocross-jump_1 0.074753 0.177233\n",
      "    motocross-jump_2 0.114721 0.176239\n",
      "paragliding-launch_1 0.311745 0.418465\n",
      "paragliding-launch_2 0.097837 0.308856\n",
      "paragliding-launch_3 0.041251 0.401003\n",
      "           parkour_1 0.110354 0.217031\n",
      "              pigs_1 0.235326 0.156096\n",
      "              pigs_2 0.302548 0.446207\n",
      "              pigs_3 0.649506 0.454832\n",
      "     scooter-black_1 0.025526 0.113276\n",
      "     scooter-black_2 0.108317 0.269775\n",
      "          shooting_1 0.160170 0.210619\n",
      "          shooting_2 0.259019 0.320864\n",
      "          shooting_3 0.150734 0.331825\n",
      "           soapbox_1 0.107931 0.314205\n",
      "           soapbox_2 0.071567 0.201786\n",
      "           soapbox_3 0.106233 0.282127\n",
      "\n",
      "Total time:89.63171696662903"
     ]
    },
    {
     "name": "stderr",
     "output_type": "stream",
     "text": [
      "\r",
      "100%|██████████| 30/30 [01:29<00:00,  4.04s/it]\r",
      "100%|██████████| 30/30 [01:29<00:00,  2.99s/it]\n"
     ]
    }
   ],
   "source": [
    "for i in range(18, 20):\n",
    "    DavisEval(FMAPICON_model(f\"pytorch/results/60x60Iguess/network{i:05}.trch\"), f\"FMAPICON_downsample_fullres_eval{i:05}\")"
   ]
  },
  {
   "cell_type": "code",
   "execution_count": 20,
   "id": "ed265806",
   "metadata": {},
   "outputs": [
    {
     "name": "stderr",
     "output_type": "stream",
     "text": [
      "100%|█████████████████████████████████████████████████████████████████████████| 30/30 [09:36<00:00, 19.20s/it]\n"
     ]
    },
    {
     "name": "stdout",
     "output_type": "stream",
     "text": [
      "Evaluating sequences for the semi-supervised task...\n"
     ]
    },
    {
     "name": "stderr",
     "output_type": "stream",
     "text": [
      " 97%|█████████▋| 29/30 [01:23<00:03,  3.17s/it]"
     ]
    },
    {
     "name": "stdout",
     "output_type": "stream",
     "text": [
      "Global results saved in results/downsampled_training/FMAPICON_downsample_fullres_eval19/global_results-val.csv\n",
      "Per-sequence results saved in results/downsampled_training/FMAPICON_downsample_fullres_eval19/per-sequence_results-val.csv\n",
      "--------------------------- Global results for val ---------------------------\n",
      " J&F-Mean  J-Mean  J-Recall  J-Decay   F-Mean  F-Recall  F-Decay\n",
      " 0.278262 0.24379  0.182217 0.294031 0.312734  0.239102 0.350834\n",
      "\n",
      "---------- Per sequence results for val ----------\n",
      "            Sequence   J-Mean   F-Mean\n",
      "      bike-packing_1 0.282394 0.584539\n",
      "      bike-packing_2 0.444287 0.536627\n",
      "         blackswan_1 0.735474 0.672725\n",
      "         bmx-trees_1 0.040957 0.195990\n",
      "         bmx-trees_2 0.103172 0.160110\n",
      "        breakdance_1 0.280891 0.302948\n",
      "             camel_1 0.515435 0.474407\n",
      "    car-roundabout_1 0.732555 0.527231\n",
      "        car-shadow_1 0.454188 0.356061\n",
      "              cows_1 0.581963 0.509848\n",
      "       dance-twirl_1 0.317613 0.415896\n",
      "               dog_1 0.358116 0.267861\n",
      "         dogs-jump_1 0.129733 0.270741\n",
      "         dogs-jump_2 0.134474 0.190899\n",
      "         dogs-jump_3 0.555962 0.679551\n",
      "     drift-chicane_1 0.030038 0.045515\n",
      "    drift-straight_1 0.052939 0.108531\n",
      "              goat_1 0.276378 0.251652\n",
      "         gold-fish_1 0.141244 0.180200\n",
      "         gold-fish_2 0.322780 0.387871\n",
      "         gold-fish_3 0.424213 0.462952\n",
      "         gold-fish_4 0.248228 0.291122\n",
      "         gold-fish_5 0.393570 0.288660\n",
      "    horsejump-high_1 0.141656 0.269402\n",
      "    horsejump-high_2 0.059284 0.119727\n",
      "             india_1 0.252942 0.149997\n",
      "             india_2 0.238468 0.196367\n",
      "             india_3 0.279602 0.270007\n",
      "              judo_1 0.468073 0.511513\n",
      "              judo_2 0.319597 0.421366\n",
      "         kite-surf_1 0.096791 0.296696\n",
      "         kite-surf_2 0.003226 0.041964\n",
      "         kite-surf_3 0.204880 0.406088\n",
      "          lab-coat_1 0.000000 0.000000\n",
      "          lab-coat_2 0.016736 0.209340\n",
      "          lab-coat_3 0.235862 0.335510\n",
      "          lab-coat_4 0.295624 0.319404\n",
      "          lab-coat_5 0.272472 0.370868\n",
      "             libby_1 0.334115 0.499546\n",
      "           loading_1 0.344688 0.250272\n",
      "           loading_2 0.138626 0.288809\n",
      "           loading_3 0.212814 0.261051\n",
      "       mbike-trick_1 0.129282 0.389398\n",
      "       mbike-trick_2 0.261897 0.404130\n",
      "    motocross-jump_1 0.068290 0.181909\n",
      "    motocross-jump_2 0.097449 0.159835\n",
      "paragliding-launch_1 0.350607 0.456739\n",
      "paragliding-launch_2 0.124556 0.337870\n",
      "paragliding-launch_3 0.038909 0.397463\n",
      "           parkour_1 0.091198 0.207367\n",
      "              pigs_1 0.235326 0.156096\n",
      "              pigs_2 0.317941 0.485929\n",
      "              pigs_3 0.673774 0.508792\n",
      "     scooter-black_1 0.027522 0.102489\n",
      "     scooter-black_2 0.102188 0.252775\n",
      "          shooting_1 0.166757 0.204099\n",
      "          shooting_2 0.242118 0.312201\n",
      "          shooting_3 0.166111 0.342603\n",
      "           soapbox_1 0.112476 0.310603\n",
      "           soapbox_2 0.097179 0.197297\n",
      "           soapbox_3 0.095541 0.289329\n",
      "\n",
      "Total time:89.52752327919006"
     ]
    },
    {
     "name": "stderr",
     "output_type": "stream",
     "text": [
      "\r",
      "100%|██████████| 30/30 [01:29<00:00,  4.03s/it]\r",
      "100%|██████████| 30/30 [01:29<00:00,  2.98s/it]\n"
     ]
    }
   ],
   "source": [
    "DavisEval(FMAPICON_model(f\"pytorch/results/60x60Iguess/network00019.trch\"), f\"FMAPICON_downsample_fullres_eval19\")"
   ]
  },
  {
   "cell_type": "code",
   "execution_count": null,
   "id": "4410021f",
   "metadata": {},
   "outputs": [],
   "source": [
    "model = FMAPICON_model(\"pytorch/results/no_crop_no_pretrain/network00011.trch\").inner_model"
   ]
  },
  {
   "cell_type": "code",
   "execution_count": null,
   "id": "bfdf0703",
   "metadata": {},
   "outputs": [],
   "source": [
    "cc,A,B,m=l[11]"
   ]
  },
  {
   "cell_type": "code",
   "execution_count": null,
   "id": "eb73ce54",
   "metadata": {},
   "outputs": [],
   "source": [
    "cc, grid = execute_model(A, B, model, N=1)"
   ]
  },
  {
   "cell_type": "code",
   "execution_count": null,
   "id": "c4d920d6",
   "metadata": {},
   "outputs": [],
   "source": [
    "feats_A = model(torch.tensor(A).cuda().permute(0, 3, 1, 2).float()).detach().cpu().numpy()\n",
    "feats_B = model(torch.tensor(B).cuda().permute(0, 3, 1, 2).float()).detach().cpu().numpy()"
   ]
  },
  {
   "cell_type": "code",
   "execution_count": null,
   "id": "bf67c1d3",
   "metadata": {},
   "outputs": [],
   "source": [
    "plt.imshow(np.sum(feats_A[0 , :32]**2, axis=0))\n",
    "plt.colorbar()"
   ]
  },
  {
   "cell_type": "code",
   "execution_count": null,
   "id": "bf23c02e",
   "metadata": {},
   "outputs": [],
   "source": [
    "plt.imshow(feats_A[0 , 18])\n",
    "plt.colorbar()\n",
    "plt.show()\n",
    "plt.imshow(feats_B[0 , 18])\n",
    "plt.colorbar()"
   ]
  },
  {
   "cell_type": "code",
   "execution_count": null,
   "id": "c645e493",
   "metadata": {},
   "outputs": [],
   "source": [
    "#plt.imshow(grid[0, :, :, 0].transpose())\n",
    "#plt.show()\n",
    "plt.imshow(A[0])\n",
    "plt.show()\n",
    "plt.imshow(B[0])\n",
    "plt.show()"
   ]
  },
  {
   "cell_type": "code",
   "execution_count": null,
   "id": "c42018c8",
   "metadata": {},
   "outputs": [],
   "source": [
    "shitty_res = m[grid[0, :, :, 1].astype(int) + 15, grid[0, :, :, 0].astype(int) + 15].transpose()\n",
    "\n",
    "up_res = np.repeat(np.repeat(shitty_res, 4, axis=0),4, axis=1)"
   ]
  },
  {
   "cell_type": "code",
   "execution_count": null,
   "id": "7d71b7f2",
   "metadata": {},
   "outputs": [],
   "source": [
    "m.shape"
   ]
  },
  {
   "cell_type": "code",
   "execution_count": null,
   "id": "715f44a9",
   "metadata": {},
   "outputs": [],
   "source": [
    "plt.imshow(m[15:-15, 15:-15])"
   ]
  },
  {
   "cell_type": "code",
   "execution_count": null,
   "id": "9eb74f72",
   "metadata": {},
   "outputs": [],
   "source": [
    "len(l)"
   ]
  },
  {
   "cell_type": "code",
   "execution_count": null,
   "id": "b24584c6",
   "metadata": {},
   "outputs": [],
   "source": [
    "plt.imshow(cc[0, 100, 110])\n",
    "plt.colorbar()"
   ]
  },
  {
   "cell_type": "code",
   "execution_count": 21,
   "id": "1dfde0e3",
   "metadata": {},
   "outputs": [
    {
     "data": {
      "text/plain": [
       "9"
      ]
     },
     "execution_count": 21,
     "metadata": {},
     "output_type": "execute_result"
    }
   ],
   "source": [
    "9"
   ]
  },
  {
   "cell_type": "code",
   "execution_count": null,
   "id": "fa860b8b",
   "metadata": {},
   "outputs": [],
   "source": [
    "DavisEval(FMAPICON_model(\"pytorch/results/deeeep_warp/network00006.trch\"), \"FMAPICON3\")"
   ]
  }
 ],
 "metadata": {
  "kernelspec": {
   "display_name": "Python 3 (ipykernel)",
   "language": "python",
   "name": "python3"
  },
  "language_info": {
   "codemirror_mode": {
    "name": "ipython",
    "version": 3
   },
   "file_extension": ".py",
   "mimetype": "text/x-python",
   "name": "python",
   "nbconvert_exporter": "python",
   "pygments_lexer": "ipython3",
   "version": "3.7.11"
  }
 },
 "nbformat": 4,
 "nbformat_minor": 5
}
